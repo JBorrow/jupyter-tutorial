{
 "cells": [
  {
   "cell_type": "markdown",
   "metadata": {},
   "source": [
    "Welcome to this tutorial for the jupyter notebook.\n",
    "\n",
    "Here we will talk you through how to use a notebook for these exercises. The notebooks are a very powerful tool with a lot of features, but we will only take you through the most important ones. There are plenty of other tutorials available online if this one does not suit your needs or if you need more information.\n",
    "\n",
    "To do this, we will create a scatter plot that shows which nuclei are susceptable to $\\beta^+$ decay, and which are susceptable to $\\beta^-$ decay.\n",
    "\n",
    "Enter the following text in the box below (that will function like a python script):\n",
    "\n",
    "    %pylab\n",
    "    %matplotlib inline \n",
    "    from npp.nucleiScatter import makePlot,M,mE,mN,mH\n",
    "    \n",
    "You can run this 'cell' by pressing shift+enter at the same time (pressing the enter key gives you a new line).\n",
    "\n",
    "We will talk you through what this means in the next text 'cell'."
   ]
  },
  {
   "cell_type": "code",
   "execution_count": null,
   "metadata": {
    "collapsed": true
   },
   "outputs": [],
   "source": []
  },
  {
   "cell_type": "code",
   "execution_count": null,
   "metadata": {
    "collapsed": true
   },
   "outputs": [],
   "source": []
  },
  {
   "cell_type": "markdown",
   "metadata": {},
   "source": [
    "Commands that are prefixed with a % sign are called 'magic' commands. These introduce interesting features into the notebook.\n",
    "\n",
    "Here we have used:\n",
    "\n",
    "+ ```%pylab```. This means that all of the matplotlib and numpy commands will be available without prefixes (similar to doing from numpy import \\*), so that to take a sin of an angle we write sin(theta) instead of np.sin(theta).\n",
    "+ ```%matplotlib inline```. This means that graphs will be placed into the notebook when created, rather than popping out in a separate window like they do when you use python on the command line. We will cover this feature later.\n",
    "\n",
    "We have also imported some extra, pre-written functions that we will use later in the notebook."
   ]
  },
  {
   "cell_type": "markdown",
   "metadata": {},
   "source": [
    "What do these functions do, you ask?\n",
    "\n",
    "+ makePlot takes a *function* as an argument. This function should have arguments Z,A and return a colour. We will return  to this later.\n",
    "+ M returns the mass of a nucleide, and takes arguments Z,A so that we write mass = M(Z,A)\n",
    "+ mE, mN, mH are the masses of an electron, neutron, and a hydrogen nucleus respectively."
   ]
  },
  {
   "cell_type": "markdown",
   "metadata": {},
   "source": [
    "Now, for the physics part.\n",
    "\n",
    "You may remember from your lectures that if:\n",
    "$$\n",
    "     M(Z,A) > M(Z+1,A)~,\n",
    "$$\n",
    "then the nucleus is susceptable to $\\beta^-$ decay, and if\n",
    "$$\n",
    "    M(Z, A) > M(Z-1, A) + 2m_E~,\n",
    "$$\n",
    "then the nucleus is instead susceptable to $\\beta^+$ decay. If you are unsure about this, then it is best to read back over the relevant notes that are available on DUO."
   ]
  },
  {
   "cell_type": "markdown",
   "metadata": {},
   "source": [
    "It would be great if we could visualise this on a scatter plot of the available nucleides - that is what the ```makePlot``` function does.\n",
    "\n",
    "To do this, we need to write a function that returns the string 'r' (for red) when $beta^-$ decay is possible, and 'b' (for blue) when $beta^+$ decay is possible. Call that function ```betaDecay```. If you are having problems, then please ask in a workshop.\n",
    "\n",
    "You should write the ```betaDecay``` function in the cell below and run it by pressing shift-enter.\n",
    "\n",
    "```betaDecay``` should take arguments Z,A, so that your first line looks like ```def betaDecay(Z,A)```. Don't forget to use the built in functions and constants thatwe have already talked about!"
   ]
  },
  {
   "cell_type": "code",
   "execution_count": 6,
   "metadata": {
    "collapsed": true
   },
   "outputs": [],
   "source": [
    "def betaDecay(Z,A):\n",
    "    if M(Z,A) > M(Z+1, A):\n",
    "        return 'r'\n",
    "    elif M(Z,A) > (M(Z-1, A) + 2*mE):\n",
    "        return 'b'\n",
    "    else:\n",
    "        return 'k'"
   ]
  },
  {
   "cell_type": "markdown",
   "metadata": {},
   "source": [
    "Now we need to pass this function, ```betaDecay```, into our plotting funtion, ```makePlot```. As we said before, ```makePlot``` takes a *function* as an argument.\n",
    "\n",
    "When you define a function in python, it is created as an 'object' with that name, much like an array is when you create one. This means that you can pass them around to other functions and do stuff with them"
   ]
  },
  {
   "cell_type": "code",
   "execution_count": null,
   "metadata": {
    "collapsed": true
   },
   "outputs": [],
   "source": []
  },
  {
   "cell_type": "code",
   "execution_count": null,
   "metadata": {
    "collapsed": true
   },
   "outputs": [],
   "source": []
  },
  {
   "cell_type": "code",
   "execution_count": null,
   "metadata": {
    "collapsed": true
   },
   "outputs": [],
   "source": []
  },
  {
   "cell_type": "code",
   "execution_count": null,
   "metadata": {
    "collapsed": true
   },
   "outputs": [],
   "source": []
  },
  {
   "cell_type": "code",
   "execution_count": null,
   "metadata": {
    "collapsed": true
   },
   "outputs": [],
   "source": []
  },
  {
   "cell_type": "code",
   "execution_count": null,
   "metadata": {
    "collapsed": true
   },
   "outputs": [],
   "source": []
  },
  {
   "cell_type": "code",
   "execution_count": null,
   "metadata": {
    "collapsed": true
   },
   "outputs": [],
   "source": []
  },
  {
   "cell_type": "code",
   "execution_count": null,
   "metadata": {
    "collapsed": true
   },
   "outputs": [],
   "source": []
  },
  {
   "cell_type": "code",
   "execution_count": null,
   "metadata": {
    "collapsed": true
   },
   "outputs": [],
   "source": []
  },
  {
   "cell_type": "code",
   "execution_count": null,
   "metadata": {
    "collapsed": true
   },
   "outputs": [],
   "source": []
  },
  {
   "cell_type": "code",
   "execution_count": null,
   "metadata": {
    "collapsed": true
   },
   "outputs": [],
   "source": []
  },
  {
   "cell_type": "code",
   "execution_count": null,
   "metadata": {
    "collapsed": true
   },
   "outputs": [],
   "source": []
  },
  {
   "cell_type": "code",
   "execution_count": null,
   "metadata": {
    "collapsed": true
   },
   "outputs": [],
   "source": []
  }
 ],
 "metadata": {
  "kernelspec": {
   "display_name": "Python 2",
   "language": "python",
   "name": "python2"
  },
  "language_info": {
   "codemirror_mode": {
    "name": "ipython",
    "version": 2
   },
   "file_extension": ".py",
   "mimetype": "text/x-python",
   "name": "python",
   "nbconvert_exporter": "python",
   "pygments_lexer": "ipython2",
   "version": "2.7.5"
  }
 },
 "nbformat": 4,
 "nbformat_minor": 0
}
